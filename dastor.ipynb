{
 "cells": [
  {
   "cell_type": "code",
   "execution_count": 4,
   "metadata": {},
   "outputs": [
    {
     "name": "stdout",
     "output_type": "stream",
     "text": [
      "Enter n:10\n"
     ]
    }
   ],
   "source": [
    "n=int(input(\"Enter n:\"))"
   ]
  },
  {
   "cell_type": "code",
   "execution_count": 2,
   "metadata": {},
   "outputs": [
    {
     "name": "stdout",
     "output_type": "stream",
     "text": [
      "I \t 10*I \t 100*I \t 1000*I\n"
     ]
    }
   ],
   "source": [
    "print(\"I\",'\\t',\"10*I\",'\\t',\"100*I\",'\\t',\"1000*I\")"
   ]
  },
  {
   "cell_type": "code",
   "execution_count": 5,
   "metadata": {},
   "outputs": [
    {
     "name": "stdout",
     "output_type": "stream",
     "text": [
      "1 \t 10 \t 100 \t 1000\n",
      "2 \t 20 \t 200 \t 2000\n",
      "3 \t 30 \t 300 \t 3000\n",
      "4 \t 40 \t 400 \t 4000\n",
      "5 \t 50 \t 500 \t 5000\n",
      "6 \t 60 \t 600 \t 6000\n",
      "7 \t 70 \t 700 \t 7000\n",
      "8 \t 80 \t 800 \t 8000\n",
      "9 \t 90 \t 900 \t 9000\n",
      "10 \t 100 \t 1000 \t 10000\n"
     ]
    }
   ],
   "source": [
    "for i in range(1,n+1):\n",
    "    print(i,'\\t',i*10,'\\t',100*i,'\\t',1000*i)"
   ]
  },
  {
   "cell_type": "code",
   "execution_count": null,
   "metadata": {},
   "outputs": [],
   "source": []
  }
 ],
 "metadata": {
  "kernelspec": {
   "display_name": "Python 3",
   "language": "python",
   "name": "python3"
  },
  "language_info": {
   "codemirror_mode": {
    "name": "ipython",
    "version": 3
   },
   "file_extension": ".py",
   "mimetype": "text/x-python",
   "name": "python",
   "nbconvert_exporter": "python",
   "pygments_lexer": "ipython3",
   "version": "3.6.13"
  }
 },
 "nbformat": 4,
 "nbformat_minor": 2
}
